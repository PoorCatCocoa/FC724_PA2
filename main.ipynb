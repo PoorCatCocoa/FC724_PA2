{
 "cells": [
  {
   "cell_type": "code",
   "id": "initial_id",
   "metadata": {
    "collapsed": true,
    "ExecuteTime": {
     "end_time": "2025-02-26T22:23:39.639791Z",
     "start_time": "2025-02-26T22:23:39.636698Z"
    }
   },
   "source": [
    "import numpy as np\n",
    "import matplotlib.pyplot as plt\n",
    "import pandas as pd\n",
    "import sqlite3\n",
    "from sqlite3 import Error"
   ],
   "outputs": [],
   "execution_count": 18
  },
  {
   "metadata": {
    "ExecuteTime": {
     "end_time": "2025-02-26T22:23:40.416430Z",
     "start_time": "2025-02-26T22:23:40.413018Z"
    }
   },
   "cell_type": "code",
   "source": [
    "def create_connection(path):\n",
    "    connection = None\n",
    "    try:\n",
    "        connection = sqlite3.connect(path)\n",
    "        print(\"Connection to SQLite DB successful\")\n",
    "    except Error as e:\n",
    "        print(f\"The error '{e}' occurred\")\n",
    "\n",
    "    return connection"
   ],
   "id": "896405eba7dffe89",
   "outputs": [],
   "execution_count": 19
  },
  {
   "metadata": {
    "ExecuteTime": {
     "end_time": "2025-02-26T22:23:42.226048Z",
     "start_time": "2025-02-26T22:23:42.219320Z"
    }
   },
   "cell_type": "code",
   "source": [
    "connection = create_connection(\"FC724_PA2_RE.db\")\n",
    "df_REA = pd.read_sql_query(\"SELECT * FROM REA\", connection)"
   ],
   "id": "6d7b1b323e7190c5",
   "outputs": [
    {
     "name": "stdout",
     "output_type": "stream",
     "text": [
      "Connection to SQLite DB successful\n"
     ]
    }
   ],
   "execution_count": 20
  },
  {
   "metadata": {
    "ExecuteTime": {
     "end_time": "2025-02-26T22:23:44.028661Z",
     "start_time": "2025-02-26T22:23:44.024971Z"
    }
   },
   "cell_type": "code",
   "source": [
    "def execute_query(connection, query):\n",
    "    cursor = connection.cursor()\n",
    "    try:\n",
    "        cursor.execute(query)\n",
    "        connection.commit()\n",
    "        print(\"Query executed successfully\")\n",
    "    except Error as e:\n",
    "        print(f\"The error '{e}' occurred\")"
   ],
   "id": "fb1323dc11431254",
   "outputs": [],
   "execution_count": 21
  },
  {
   "metadata": {
    "ExecuteTime": {
     "end_time": "2025-02-26T22:23:47.380813Z",
     "start_time": "2025-02-26T22:23:47.376557Z"
    }
   },
   "cell_type": "code",
   "source": [
    "def execute_read_query(connection, query):\n",
    "    cursor = connection.cursor()\n",
    "    result = None\n",
    "    try:\n",
    "        cursor.execute(query)\n",
    "        result = cursor.fetchall()\n",
    "        return result\n",
    "    except Error as e:\n",
    "        print(f\"The error '{e}' occurred\")"
   ],
   "id": "1b7ceba37bc71fc6",
   "outputs": [],
   "execution_count": 22
  },
  {
   "metadata": {
    "ExecuteTime": {
     "end_time": "2025-02-26T22:23:57.956207Z",
     "start_time": "2025-02-26T22:23:57.950588Z"
    }
   },
   "cell_type": "code",
   "source": [
    "a = \"\"\"\n",
    "SELECT * FROM REA\n",
    "WHERE Country = ''\n",
    "\"\"\"\n",
    "execute_read_query(connection, a)"
   ],
   "id": "cc83adf372d3f5ed",
   "outputs": [
    {
     "data": {
      "text/plain": [
       "[]"
      ]
     },
     "execution_count": 25,
     "metadata": {},
     "output_type": "execute_result"
    }
   ],
   "execution_count": 25
  },
  {
   "metadata": {
    "ExecuteTime": {
     "end_time": "2025-02-26T22:20:10.231528Z",
     "start_time": "2025-02-26T22:20:10.137005Z"
    }
   },
   "cell_type": "code",
   "source": "",
   "id": "5da39943699a76a8",
   "outputs": [],
   "execution_count": 15
  }
 ],
 "metadata": {
  "kernelspec": {
   "display_name": "Python 3",
   "language": "python",
   "name": "python3"
  },
  "language_info": {
   "codemirror_mode": {
    "name": "ipython",
    "version": 2
   },
   "file_extension": ".py",
   "mimetype": "text/x-python",
   "name": "python",
   "nbconvert_exporter": "python",
   "pygments_lexer": "ipython2",
   "version": "2.7.6"
  }
 },
 "nbformat": 4,
 "nbformat_minor": 5
}
