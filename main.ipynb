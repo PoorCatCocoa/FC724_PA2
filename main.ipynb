{
 "cells": [
  {
   "cell_type": "code",
   "id": "initial_id",
   "metadata": {
    "collapsed": true,
    "ExecuteTime": {
     "end_time": "2025-03-02T14:30:00.894189Z",
     "start_time": "2025-03-02T14:29:59.622511Z"
    }
   },
   "source": [
    "import math\n",
    "import numpy as np\n",
    "import pandas as pd\n",
    "import sqlalchemy\n",
    "from matplotlib import pyplot as plt\n",
    "from sqlalchemy import create_engine\n",
    "from sqlalchemy import Column, Integer, String, Float\n",
    "from sqlalchemy.orm import sessionmaker, scoped_session\n",
    "from sqlalchemy.ext.declarative import declarative_base"
   ],
   "outputs": [],
   "execution_count": 1
  },
  {
   "metadata": {
    "ExecuteTime": {
     "end_time": "2025-03-02T14:31:21.394345Z",
     "start_time": "2025-03-02T14:31:21.376445Z"
    }
   },
   "cell_type": "code",
   "source": [
    "engine = create_engine('sqlite:///FC724_PA2.db')\n",
    "Base = sqlalchemy.orm.declarative_base()\n",
    "Session = sessionmaker(bind=engine)"
   ],
   "id": "105d966645235595",
   "outputs": [],
   "execution_count": 2
  },
  {
   "metadata": {
    "ExecuteTime": {
     "end_time": "2025-03-02T14:31:22.911679Z",
     "start_time": "2025-03-02T14:31:22.902151Z"
    }
   },
   "cell_type": "code",
   "source": [
    "class SQLTable(Base):\n",
    "\t__tablename__ = 'REA'\n",
    "\n",
    "\tid = Column(Integer, primary_key=True)\n",
    "\tCountry = Column(String)\n",
    "\tYear = Column(Integer)\n",
    "\tTotal_Energy_Consumption = Column(Float, name='Total Energy Consumption (TWh)')\n",
    "\tRenewable_Energy = Column(Float, name='Renewable Energy (%)')\n",
    "\tGovernment_Investment = Column(Float, name='Government Investment (Million USD)')\n",
    "\tEmissions_Reduction = Column(Float, name='Emissions Reduction (%)')\n",
    "\tSolar = Column(Float)\n",
    "\tWind = Column(Float)\n",
    "\tHydro = Column(Float)\n",
    "\tGeothermal = Column(Float)\n",
    "\tBiomass = Column(Float)\n",
    "\tOther_Renewables = Column(Float, name='Other Renewables')\n",
    "\n",
    "Base.metadata.create_all(engine)"
   ],
   "id": "db2be4b6dd9ff878",
   "outputs": [],
   "execution_count": 3
  },
  {
   "metadata": {
    "ExecuteTime": {
     "end_time": "2025-03-02T14:31:29.997408Z",
     "start_time": "2025-03-02T14:31:29.992702Z"
    }
   },
   "cell_type": "code",
   "source": [
    "class Transaction:\n",
    "\tdef __init__(self):\n",
    "\t\tself.session = Session()\n",
    "\n",
    "\tdef __enter__(self):\n",
    "\t\treturn self.session\n",
    "\n",
    "\tdef __exit__(self, exc_type, exc_val, exc_tb):\n",
    "\t\tif exc_type is None:\n",
    "\t\t\ttry:\n",
    "\t\t\t\tself.session.commit()\n",
    "\t\t\texcept:\n",
    "\t\t\t\tself.session.rollback()\n",
    "\t\t\t\traise\n",
    "\t\telse:\n",
    "\t\t\tself.session.rollback()\n",
    "\t\t\traise\n",
    "\t\tself.session.close()\n",
    "\n",
    "with Transaction() as transaction:\n",
    "\ttransaction.query(SQLTable)"
   ],
   "id": "2518c2ac5a7b730e",
   "outputs": [],
   "execution_count": 6
  },
  {
   "metadata": {
    "ExecuteTime": {
     "end_time": "2025-03-02T14:31:31.454197Z",
     "start_time": "2025-03-02T14:31:31.447395Z"
    }
   },
   "cell_type": "code",
   "source": [
    "def process_item(column: list[str | int | np.float64]) -> list[str | int | float] | None:\n",
    "\t\"\"\"\n",
    "\tparams: column: list[str|np.float_]\n",
    "\treturn: list[str|np.float_] | None\n",
    "\tNone for drop\n",
    "\t\"\"\"\n",
    "\tassert column[0], \"Country name cannot be empty\"\n",
    "\tassert column[1], \"Year cannot be empty\"\n",
    "\tassert column[2], \"Total Energy Consumption (TWh) cannot be empty\"\n",
    "\n",
    "\tcolumn[1] = int(column[1])\n",
    "\n",
    "\tif not math.isnan(column[3]) and all([not math.isnan(item) for item in column[6:]]):\n",
    "\t\treturn column\n",
    "\n",
    "\tif math.isnan(column[3]):\n",
    "\t\tif all([not math.isnan(item) for item in column[6:]]):\n",
    "\t\t\tcolumn[3] = sum(column[6:])\n",
    "\t\t\treturn column\n",
    "\t\telse:\n",
    "\t\t\t# There are over two NaN values in the dataset could fix.\n",
    "\t\t\treturn None\n",
    "\n",
    "\tnan_index = None\n",
    "\taccumulated_value = 0\n",
    "\tfor i, item in enumerate(column[6:], start=6):\n",
    "\t\tif math.isnan(item):\n",
    "\t\t\tif nan_index is not None:\n",
    "\t\t\t\tbreak\n",
    "\t\t\tnan_index = i\n",
    "\t\telse:\n",
    "\t\t\taccumulated_value += item\n",
    "\telse:\n",
    "\t\tcolumn[nan_index] = column[3] - accumulated_value\n",
    "\t\treturn column\n",
    "\n",
    "\treturn None"
   ],
   "id": "db9178259090716a",
   "outputs": [],
   "execution_count": 7
  },
  {
   "metadata": {
    "ExecuteTime": {
     "end_time": "2025-03-02T14:31:35.980579Z",
     "start_time": "2025-03-02T14:31:35.972621Z"
    }
   },
   "cell_type": "code",
   "source": [
    "def process_data(df_csv: pd.DataFrame) -> list[list[str | int | float]]:\n",
    "\t\"\"\"\n",
    "\tparams: df_csv: pd.DataFrame\n",
    "\treturn: list[list[str|int|np.float_]]\n",
    "\t\"\"\"\n",
    "\tprocessed_data = []\n",
    "\tfor i in range(len(df_csv[\"Country\"])):\n",
    "\t\ttemp = []\n",
    "\t\tfor row_name in df_csv:\n",
    "\t\t\ttemp.append(df_csv[row_name][i])\n",
    "\t\tprocessed_item = process_item(temp)\n",
    "\t\tif processed_item is not None:\n",
    "\t\t\tprocessed_data.append(processed_item)\n",
    "\n",
    "\tinterpolated_data = []\n",
    "\tfor i, item in enumerate(processed_data):\n",
    "\t\tif not math.isnan(item[4]):\n",
    "\t\t\tinterpolated_data.append(item)\n",
    "\t\t\tcontinue\n",
    "\t\tleft_ptr = i - 1\n",
    "\t\tright_ptr = i + 1\n",
    "\t\twhile left_ptr >= 0:\n",
    "\t\t\tif not math.isnan(processed_data[left_ptr][4]):\n",
    "\t\t\t\tbreak\n",
    "\t\t\tleft_ptr -= 1\n",
    "\t\telse:\n",
    "\t\t\tleft_ptr = None\n",
    "\n",
    "\t\twhile right_ptr < len(processed_data):\n",
    "\t\t\tif not math.isnan(processed_data[right_ptr][4]):\n",
    "\t\t\t\tbreak\n",
    "\t\t\tright_ptr += 1\n",
    "\t\telse:\n",
    "\t\t\tright_ptr = None\n",
    "\n",
    "\t\tif left_ptr is None and right_ptr is None:\n",
    "\t\t\t# This is not linear interpolation\n",
    "\t\t\tcontinue\n",
    "\n",
    "\t\tif left_ptr is None:\n",
    "\t\t\twhile right_ptr < len(processed_data):\n",
    "\t\t\t\tif not math.isnan(processed_data[right_ptr][4]):\n",
    "\t\t\t\t\tif left_ptr is not None:\n",
    "\t\t\t\t\t\tbreak\n",
    "\t\t\t\t\tleft_ptr = right_ptr\n",
    "\t\t\t\tright_ptr += 1\n",
    "\t\t\telse:\n",
    "\t\t\t\tcontinue\n",
    "\n",
    "\t\tif right_ptr is None:\n",
    "\t\t\twhile left_ptr >= 0:\n",
    "\t\t\t\tif not math.isnan(processed_data[left_ptr][4]):\n",
    "\t\t\t\t\tif right_ptr is not None:\n",
    "\t\t\t\t\t\tbreak\n",
    "\t\t\t\t\tright_ptr = left_ptr\n",
    "\t\t\t\tleft_ptr -= 1\n",
    "\t\t\telse:\n",
    "\t\t\t\tcontinue\n",
    "\n",
    "\t\tassert left_ptr is not None and right_ptr is not None\n",
    "\t\tassert left_ptr < right_ptr\n",
    "\n",
    "\t\tk = (processed_data[right_ptr][4] + processed_data[left_ptr][4]) / (processed_data[right_ptr][1] - processed_data[left_ptr][1])\n",
    "\t\titem[4] = int(k * (item[1] - processed_data[left_ptr][1]) + processed_data[left_ptr][4])\n",
    "\t\tinterpolated_data.append(item)\n",
    "\treturn interpolated_data"
   ],
   "id": "f4a4ea3ff9c7625f",
   "outputs": [],
   "execution_count": 8
  },
  {
   "metadata": {
    "ExecuteTime": {
     "end_time": "2025-03-02T14:32:03.234564Z",
     "start_time": "2025-03-02T14:32:03.193479Z"
    }
   },
   "cell_type": "code",
   "source": [
    "df_csv = pd.read_csv('Renewable_Energy_Adoption.csv')\n",
    "processed_data = process_data(df_csv)\n",
    "\n",
    "with Transaction() as transaction:\n",
    "\tfor row in processed_data:\n",
    "\t\ttransaction.add(SQLTable(Country=row[0], Year=row[1], Total_Energy_Consumption=row[2], Renewable_Energy=row[3],\n",
    "\t\t\t\t\t\t\t\t Government_Investment=row[4], Emissions_Reduction=row[5], Solar=row[6], Wind=row[7],\n",
    "\t\t\t\t\t\t\t\t Hydro=row[8], Geothermal=row[9], Biomass=row[10], Other_Renewables=row[11]))"
   ],
   "id": "bbcb56bb40f5561",
   "outputs": [],
   "execution_count": 10
  },
  {
   "metadata": {},
   "cell_type": "code",
   "outputs": [],
   "execution_count": null,
   "source": "",
   "id": "34fd16bbcb0cf471"
  }
 ],
 "metadata": {
  "kernelspec": {
   "display_name": "Python 3",
   "language": "python",
   "name": "python3"
  },
  "language_info": {
   "codemirror_mode": {
    "name": "ipython",
    "version": 2
   },
   "file_extension": ".py",
   "mimetype": "text/x-python",
   "name": "python",
   "nbconvert_exporter": "python",
   "pygments_lexer": "ipython2",
   "version": "2.7.6"
  }
 },
 "nbformat": 4,
 "nbformat_minor": 5
}
